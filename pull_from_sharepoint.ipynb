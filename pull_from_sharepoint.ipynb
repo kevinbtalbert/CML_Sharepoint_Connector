{
 "cells": [
  {
   "cell_type": "code",
   "execution_count": 1,
   "id": "b2805918-099e-48e1-88bd-c1f4de0deb65",
   "metadata": {},
   "outputs": [
    {
     "name": "stdout",
     "output_type": "stream",
     "text": [
      "Collecting Office365-REST-Python-Client\n",
      "  Downloading Office365_REST_Python_Client-2.5.11-py3-none-any.whl.metadata (18 kB)\n",
      "Requirement already satisfied: requests in /usr/local/lib/python3.10/site-packages (from Office365-REST-Python-Client) (2.31.0)\n",
      "Collecting msal (from Office365-REST-Python-Client)\n",
      "  Downloading msal-1.29.0-py3-none-any.whl.metadata (11 kB)\n",
      "Requirement already satisfied: pytz in /usr/local/lib/python3.10/site-packages (from Office365-REST-Python-Client) (2023.3.post1)\n",
      "Requirement already satisfied: typing-extensions>=4.0.0 in /usr/local/lib/python3.10/site-packages (from Office365-REST-Python-Client) (4.5.0)\n",
      "Collecting PyJWT<3,>=1.0.0 (from PyJWT[crypto]<3,>=1.0.0->msal->Office365-REST-Python-Client)\n",
      "  Downloading PyJWT-2.8.0-py3-none-any.whl.metadata (4.2 kB)\n",
      "Collecting cryptography<45,>=2.5 (from msal->Office365-REST-Python-Client)\n",
      "  Downloading cryptography-42.0.8-cp39-abi3-manylinux_2_28_x86_64.whl.metadata (5.3 kB)\n",
      "Requirement already satisfied: charset-normalizer<4,>=2 in /usr/local/lib/python3.10/site-packages (from requests->Office365-REST-Python-Client) (3.1.0)\n",
      "Requirement already satisfied: idna<4,>=2.5 in /usr/local/lib/python3.10/site-packages (from requests->Office365-REST-Python-Client) (3.4)\n",
      "Requirement already satisfied: urllib3<3,>=1.21.1 in ./.local/lib/python3.10/site-packages (from requests->Office365-REST-Python-Client) (1.25.4)\n",
      "Requirement already satisfied: certifi>=2017.4.17 in /usr/local/lib/python3.10/site-packages (from requests->Office365-REST-Python-Client) (2023.7.22)\n",
      "Requirement already satisfied: cffi>=1.12 in /usr/local/lib/python3.10/site-packages (from cryptography<45,>=2.5->msal->Office365-REST-Python-Client) (1.15.1)\n",
      "Requirement already satisfied: pycparser in /usr/local/lib/python3.10/site-packages (from cffi>=1.12->cryptography<45,>=2.5->msal->Office365-REST-Python-Client) (2.21)\n",
      "Downloading Office365_REST_Python_Client-2.5.11-py3-none-any.whl (1.2 MB)\n",
      "\u001b[2K   \u001b[90m━━━━━━━━━━━━━━━━━━━━━━━━━━━━━━━━━━━━━━━━\u001b[0m \u001b[32m1.2/1.2 MB\u001b[0m \u001b[31m6.3 MB/s\u001b[0m eta \u001b[36m0:00:00\u001b[0m:00:01\u001b[0m00:01\u001b[0m\n",
      "\u001b[?25hDownloading msal-1.29.0-py3-none-any.whl (110 kB)\n",
      "\u001b[2K   \u001b[90m━━━━━━━━━━━━━━━━━━━━━━━━━━━━━━━━━━━━━━━━\u001b[0m \u001b[32m110.9/110.9 kB\u001b[0m \u001b[31m1.3 MB/s\u001b[0m eta \u001b[36m0:00:00\u001b[0mta \u001b[36m0:00:01\u001b[0m\n",
      "\u001b[?25hDownloading cryptography-42.0.8-cp39-abi3-manylinux_2_28_x86_64.whl (3.9 MB)\n",
      "\u001b[2K   \u001b[90m━━━━━━━━━━━━━━━━━━━━━━━━━━━━━━━━━━━━━━━━\u001b[0m \u001b[32m3.9/3.9 MB\u001b[0m \u001b[31m23.9 MB/s\u001b[0m eta \u001b[36m0:00:00\u001b[0m:00:01\u001b[0m\n",
      "\u001b[?25hDownloading PyJWT-2.8.0-py3-none-any.whl (22 kB)\n",
      "Installing collected packages: PyJWT, cryptography, msal, Office365-REST-Python-Client\n",
      "Successfully installed Office365-REST-Python-Client-2.5.11 PyJWT-2.8.0 cryptography-42.0.8 msal-1.29.0\n"
     ]
    }
   ],
   "source": [
    "!pip install Office365-REST-Python-Client"
   ]
  },
  {
   "cell_type": "code",
   "execution_count": null,
   "id": "b6b37a54",
   "metadata": {},
   "outputs": [],
   "source": [
    "import os\n",
    "from office365.sharepoint.client_context import ClientContext\n",
    "from office365.runtime.auth.authentication_context import AuthenticationContext\n",
    "\n",
    "# Define SharePoint credentials and site URL\n",
    "sharepoint_url = 'https://your-org.sharepoint.com/'\n",
    "username = 'your-username@org.com'\n",
    "password = 'your-password'\n",
    "document_library_name = 'Documents'  # Change to your document library name\n",
    "local_save_path = os.getcwd() + '/data/'\n",
    "\n",
    "# Authenticate and create a client context\n",
    "auth_ctx = AuthenticationContext(sharepoint_url)\n",
    "if auth_ctx.acquire_token_for_user(username, password):\n",
    "    ctx = ClientContext(sharepoint_url, auth_ctx)\n",
    "    web = ctx.web\n",
    "    ctx.load(web)\n",
    "    ctx.execute_query()\n",
    "\n",
    "    print(f\"Authenticated to SharePoint site: {web.properties['Title']}\")\n",
    "\n",
    "    # Get the document library\n",
    "    doc_library = ctx.web.lists.get_by_title(document_library_name)\n",
    "    ctx.load(doc_library)\n",
    "    ctx.execute_query()\n",
    "\n",
    "    # Get all items in the document library\n",
    "    items = doc_library.items\n",
    "    ctx.load(items)\n",
    "    ctx.execute_query()\n",
    "\n",
    "    # Create local save directory if it does not exist\n",
    "    if not os.path.exists(local_save_path):\n",
    "        os.makedirs(local_save_path)\n",
    "\n",
    "    # Iterate through items and download files\n",
    "    for item in items:\n",
    "        file_url = item.properties[\"FileRef\"]\n",
    "        file_name = item.properties[\"FileLeafRef\"]\n",
    "        file_path = os.path.join(local_save_path, file_name)\n",
    "\n",
    "        with open(file_path, \"wb\") as local_file:\n",
    "            file = ctx.web.get_file_by_server_relative_url(file_url)\n",
    "            file.download(local_file)\n",
    "            ctx.execute_query()\n",
    "            print(f\"Downloaded: {file_name} to {file_path}\")\n",
    "\n",
    "else:\n",
    "    print(\"Authentication failed\")\n"
   ]
  }
 ],
 "metadata": {
  "kernelspec": {
   "display_name": "Python 3 (ipykernel)",
   "language": "python",
   "name": "python3"
  },
  "language_info": {
   "codemirror_mode": {
    "name": "ipython",
    "version": 3
   },
   "file_extension": ".py",
   "mimetype": "text/x-python",
   "name": "python",
   "nbconvert_exporter": "python",
   "pygments_lexer": "ipython3",
   "version": "3.11.9"
  }
 },
 "nbformat": 4,
 "nbformat_minor": 5
}
